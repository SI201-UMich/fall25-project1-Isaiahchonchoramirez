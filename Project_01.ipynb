{
 "cells": [
  {
   "cell_type": "code",
   "execution_count": 3,
   "id": "ade52040",
   "metadata": {},
   "outputs": [],
   "source": [
    "import pandas as pd\n",
    "import numpy as np\n",
    "import matplotlib.pyplot as plt"
   ]
  },
  {
   "cell_type": "code",
   "execution_count": 4,
   "id": "5aa99e9b",
   "metadata": {},
   "outputs": [],
   "source": [
    "df = pd.read_csv('/Users/irmac/Developer/Python/SI201/Projects/fall25-project1-Isaiahchonchoramirez/crop_yield.csv')"
   ]
  },
  {
   "cell_type": "code",
   "execution_count": 5,
   "id": "49dde13b",
   "metadata": {},
   "outputs": [
    {
     "name": "stdout",
     "output_type": "stream",
     "text": [
      "<class 'pandas.core.frame.DataFrame'>\n",
      "RangeIndex: 1000000 entries, 0 to 999999\n",
      "Data columns (total 10 columns):\n",
      " #   Column                  Non-Null Count    Dtype  \n",
      "---  ------                  --------------    -----  \n",
      " 0   Region                  1000000 non-null  object \n",
      " 1   Soil_Type               1000000 non-null  object \n",
      " 2   Crop                    1000000 non-null  object \n",
      " 3   Rainfall_mm             1000000 non-null  float64\n",
      " 4   Temperature_Celsius     1000000 non-null  float64\n",
      " 5   Fertilizer_Used         1000000 non-null  bool   \n",
      " 6   Irrigation_Used         1000000 non-null  bool   \n",
      " 7   Weather_Condition       1000000 non-null  object \n",
      " 8   Days_to_Harvest         1000000 non-null  int64  \n",
      " 9   Yield_tons_per_hectare  1000000 non-null  float64\n",
      "dtypes: bool(2), float64(3), int64(1), object(4)\n",
      "memory usage: 62.9+ MB\n"
     ]
    }
   ],
   "source": [
    "df.info()"
   ]
  },
  {
   "cell_type": "code",
   "execution_count": null,
   "id": "fcaf8d9c",
   "metadata": {},
   "outputs": [
    {
     "data": {
      "text/html": [
       "<div>\n",
       "<style scoped>\n",
       "    .dataframe tbody tr th:only-of-type {\n",
       "        vertical-align: middle;\n",
       "    }\n",
       "\n",
       "    .dataframe tbody tr th {\n",
       "        vertical-align: top;\n",
       "    }\n",
       "\n",
       "    .dataframe thead th {\n",
       "        text-align: right;\n",
       "    }\n",
       "</style>\n",
       "<table border=\"1\" class=\"dataframe\">\n",
       "  <thead>\n",
       "    <tr style=\"text-align: right;\">\n",
       "      <th></th>\n",
       "      <th>Region</th>\n",
       "      <th>Soil_Type</th>\n",
       "      <th>Crop</th>\n",
       "      <th>Rainfall_mm</th>\n",
       "      <th>Temperature_Celsius</th>\n",
       "      <th>Fertilizer_Used</th>\n",
       "      <th>Irrigation_Used</th>\n",
       "      <th>Weather_Condition</th>\n",
       "      <th>Days_to_Harvest</th>\n",
       "      <th>Yield_tons_per_hectare</th>\n",
       "    </tr>\n",
       "  </thead>\n",
       "  <tbody>\n",
       "    <tr>\n",
       "      <th>707277</th>\n",
       "      <td>West</td>\n",
       "      <td>Silt</td>\n",
       "      <td>Maize</td>\n",
       "      <td>715.473107</td>\n",
       "      <td>16.808794</td>\n",
       "      <td>False</td>\n",
       "      <td>False</td>\n",
       "      <td>Cloudy</td>\n",
       "      <td>89</td>\n",
       "      <td>4.420049</td>\n",
       "    </tr>\n",
       "    <tr>\n",
       "      <th>563014</th>\n",
       "      <td>North</td>\n",
       "      <td>Chalky</td>\n",
       "      <td>Wheat</td>\n",
       "      <td>368.366778</td>\n",
       "      <td>29.418951</td>\n",
       "      <td>False</td>\n",
       "      <td>False</td>\n",
       "      <td>Sunny</td>\n",
       "      <td>134</td>\n",
       "      <td>2.327525</td>\n",
       "    </tr>\n",
       "    <tr>\n",
       "      <th>770812</th>\n",
       "      <td>East</td>\n",
       "      <td>Clay</td>\n",
       "      <td>Soybean</td>\n",
       "      <td>713.843465</td>\n",
       "      <td>31.149918</td>\n",
       "      <td>False</td>\n",
       "      <td>False</td>\n",
       "      <td>Cloudy</td>\n",
       "      <td>89</td>\n",
       "      <td>4.575336</td>\n",
       "    </tr>\n",
       "    <tr>\n",
       "      <th>426928</th>\n",
       "      <td>South</td>\n",
       "      <td>Clay</td>\n",
       "      <td>Barley</td>\n",
       "      <td>210.762166</td>\n",
       "      <td>16.009047</td>\n",
       "      <td>True</td>\n",
       "      <td>True</td>\n",
       "      <td>Sunny</td>\n",
       "      <td>98</td>\n",
       "      <td>4.578791</td>\n",
       "    </tr>\n",
       "    <tr>\n",
       "      <th>885337</th>\n",
       "      <td>North</td>\n",
       "      <td>Sandy</td>\n",
       "      <td>Rice</td>\n",
       "      <td>640.707132</td>\n",
       "      <td>39.221108</td>\n",
       "      <td>False</td>\n",
       "      <td>True</td>\n",
       "      <td>Cloudy</td>\n",
       "      <td>143</td>\n",
       "      <td>5.124150</td>\n",
       "    </tr>\n",
       "    <tr>\n",
       "      <th>9389</th>\n",
       "      <td>West</td>\n",
       "      <td>Loam</td>\n",
       "      <td>Maize</td>\n",
       "      <td>982.421234</td>\n",
       "      <td>22.880292</td>\n",
       "      <td>False</td>\n",
       "      <td>True</td>\n",
       "      <td>Cloudy</td>\n",
       "      <td>91</td>\n",
       "      <td>6.770356</td>\n",
       "    </tr>\n",
       "    <tr>\n",
       "      <th>625482</th>\n",
       "      <td>South</td>\n",
       "      <td>Chalky</td>\n",
       "      <td>Soybean</td>\n",
       "      <td>114.905582</td>\n",
       "      <td>37.759066</td>\n",
       "      <td>True</td>\n",
       "      <td>True</td>\n",
       "      <td>Rainy</td>\n",
       "      <td>92</td>\n",
       "      <td>3.759084</td>\n",
       "    </tr>\n",
       "    <tr>\n",
       "      <th>872113</th>\n",
       "      <td>West</td>\n",
       "      <td>Loam</td>\n",
       "      <td>Cotton</td>\n",
       "      <td>524.679977</td>\n",
       "      <td>19.596013</td>\n",
       "      <td>False</td>\n",
       "      <td>True</td>\n",
       "      <td>Rainy</td>\n",
       "      <td>99</td>\n",
       "      <td>3.783555</td>\n",
       "    </tr>\n",
       "    <tr>\n",
       "      <th>40826</th>\n",
       "      <td>North</td>\n",
       "      <td>Peaty</td>\n",
       "      <td>Soybean</td>\n",
       "      <td>127.461499</td>\n",
       "      <td>30.809404</td>\n",
       "      <td>False</td>\n",
       "      <td>True</td>\n",
       "      <td>Rainy</td>\n",
       "      <td>86</td>\n",
       "      <td>2.003027</td>\n",
       "    </tr>\n",
       "    <tr>\n",
       "      <th>108475</th>\n",
       "      <td>South</td>\n",
       "      <td>Loam</td>\n",
       "      <td>Rice</td>\n",
       "      <td>725.546577</td>\n",
       "      <td>34.983811</td>\n",
       "      <td>True</td>\n",
       "      <td>True</td>\n",
       "      <td>Sunny</td>\n",
       "      <td>70</td>\n",
       "      <td>7.055614</td>\n",
       "    </tr>\n",
       "  </tbody>\n",
       "</table>\n",
       "</div>"
      ],
      "text/plain": [
       "       Region Soil_Type     Crop  Rainfall_mm  Temperature_Celsius  \\\n",
       "707277   West      Silt    Maize   715.473107            16.808794   \n",
       "563014  North    Chalky    Wheat   368.366778            29.418951   \n",
       "770812   East      Clay  Soybean   713.843465            31.149918   \n",
       "426928  South      Clay   Barley   210.762166            16.009047   \n",
       "885337  North     Sandy     Rice   640.707132            39.221108   \n",
       "9389     West      Loam    Maize   982.421234            22.880292   \n",
       "625482  South    Chalky  Soybean   114.905582            37.759066   \n",
       "872113   West      Loam   Cotton   524.679977            19.596013   \n",
       "40826   North     Peaty  Soybean   127.461499            30.809404   \n",
       "108475  South      Loam     Rice   725.546577            34.983811   \n",
       "\n",
       "        Fertilizer_Used  Irrigation_Used Weather_Condition  Days_to_Harvest  \\\n",
       "707277            False            False            Cloudy               89   \n",
       "563014            False            False             Sunny              134   \n",
       "770812            False            False            Cloudy               89   \n",
       "426928             True             True             Sunny               98   \n",
       "885337            False             True            Cloudy              143   \n",
       "9389              False             True            Cloudy               91   \n",
       "625482             True             True             Rainy               92   \n",
       "872113            False             True             Rainy               99   \n",
       "40826             False             True             Rainy               86   \n",
       "108475             True             True             Sunny               70   \n",
       "\n",
       "        Yield_tons_per_hectare  \n",
       "707277                4.420049  \n",
       "563014                2.327525  \n",
       "770812                4.575336  \n",
       "426928                4.578791  \n",
       "885337                5.124150  \n",
       "9389                  6.770356  \n",
       "625482                3.759084  \n",
       "872113                3.783555  \n",
       "40826                 2.003027  \n",
       "108475                7.055614  "
      ]
     },
     "execution_count": 6,
     "metadata": {},
     "output_type": "execute_result"
    }
   ],
   "source": [
    "df.sample(10)"
   ]
  },
  {
   "cell_type": "code",
   "execution_count": 8,
   "id": "4f8fa566",
   "metadata": {},
   "outputs": [
    {
     "data": {
      "text/plain": [
       "(1000000, 10)"
      ]
     },
     "execution_count": 8,
     "metadata": {},
     "output_type": "execute_result"
    }
   ],
   "source": [
    "df.shape\n"
   ]
  },
  {
   "cell_type": "code",
   "execution_count": null,
   "id": "b7f0c73e",
   "metadata": {},
   "outputs": [
    {
     "data": {
      "text/plain": [
       "Region                          4\n",
       "Soil_Type                       6\n",
       "Crop                            6\n",
       "Rainfall_mm               1000000\n",
       "Temperature_Celsius       1000000\n",
       "Fertilizer_Used                 2\n",
       "Irrigation_Used                 2\n",
       "Weather_Condition               3\n",
       "Days_to_Harvest                90\n",
       "Yield_tons_per_hectare    1000000\n",
       "dtype: int64"
      ]
     },
     "execution_count": 11,
     "metadata": {},
     "output_type": "execute_result"
    }
   ],
   "source": [
    "df.nunique()"
   ]
  },
  {
   "cell_type": "markdown",
   "id": "352fdc01",
   "metadata": {},
   "source": [
    "## Calculate yield per unit of rainfall (tons per mm)."
   ]
  },
  {
   "cell_type": "code",
   "execution_count": null,
   "id": "360c8e57",
   "metadata": {},
   "outputs": [],
   "source": [
    "# Columns: Yield_tons_per_hectare, Rainfall_mm, Region\n",
    "# Yield efficiency per rainfall unit by region\n"
   ]
  },
  {
   "cell_type": "markdown",
   "id": "0c240114",
   "metadata": {},
   "source": [
    "## Regional rain map / average rain per region."
   ]
  },
  {
   "cell_type": "code",
   "execution_count": null,
   "id": "95d5548b",
   "metadata": {},
   "outputs": [],
   "source": [
    "# Columns: Rainfall_mm, Region, Weather_Condition\n",
    "# Which region gets the highest yield per mm of rainfall?\n"
   ]
  },
  {
   "cell_type": "markdown",
   "id": "88c1d15d",
   "metadata": {},
   "source": [
    "## Crop yeild per region / per soil type.\n"
   ]
  },
  {
   "cell_type": "code",
   "execution_count": null,
   "id": "14acc583",
   "metadata": {},
   "outputs": [],
   "source": [
    "# Columns: Yield_tons_per_hectare, Soil_Type, Crop.\n",
    "# How does soil type influence the yield for different crops?\n",
    " "
   ]
  },
  {
   "cell_type": "markdown",
   "id": "ba8c0d34",
   "metadata": {},
   "source": [
    "## Harvest time vs yield with irrigation/fertilizer"
   ]
  },
  {
   "cell_type": "code",
   "execution_count": null,
   "id": "b7bad088",
   "metadata": {},
   "outputs": [],
   "source": [
    "# Columns: Days_to_Harvest, Yield_tons_per_hectare, Irrigation_Used, Fertilizer_Used\n",
    "# Do irrigation and fertilizer reduce time-to-harvest or increase yield?"
   ]
  },
  {
   "cell_type": "markdown",
   "id": "fbe4aff5",
   "metadata": {},
   "source": [
    "## Weather condition yield analysis."
   ]
  },
  {
   "cell_type": "code",
   "execution_count": null,
   "id": "4b08f7e3",
   "metadata": {},
   "outputs": [],
   "source": [
    "# Columns: Yield_tons_per_hectare, Weather_Condition, Region\n",
    "# Which weather condition is associated with the highest yields across regions?"
   ]
  }
 ],
 "metadata": {
  "kernelspec": {
   "display_name": "base",
   "language": "python",
   "name": "python3"
  },
  "language_info": {
   "codemirror_mode": {
    "name": "ipython",
    "version": 3
   },
   "file_extension": ".py",
   "mimetype": "text/x-python",
   "name": "python",
   "nbconvert_exporter": "python",
   "pygments_lexer": "ipython3",
   "version": "3.13.5"
  }
 },
 "nbformat": 4,
 "nbformat_minor": 5
}
